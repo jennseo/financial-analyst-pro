{
 "cells": [
  {
   "cell_type": "markdown",
   "id": "adcbc64f",
   "metadata": {},
   "source": [
    "# Financial Analysis Agent — Product Demo\n",
    "\n",
    "This notebook demonstrates how to turn raw financial data into insights and automation with an AI Agent.\n",
    "\n",
    "**Workflow:** `CSV → Agent (KPIs + LLM) → Report → Automation (Slack/Notion/Make)`\n",
    "\n",
    "---\n"
   ]
  },
  {
   "cell_type": "markdown",
   "id": "3682a71d",
   "metadata": {},
   "source": [
    "## 1) Load sample data"
   ]
  },
  {
   "cell_type": "code",
   "execution_count": null,
   "id": "c9feddd2",
   "metadata": {},
   "outputs": [],
   "source": [
    "from src.utils import load_financial_csv\n",
    "df = load_financial_csv('data/sample.csv')\n",
    "df.head()  # preview first rows\n"
   ]
  },
  {
   "cell_type": "markdown",
   "id": "46f5e05a",
   "metadata": {},
   "source": [
    "## 2) Run the Agent (KPIs + insights)"
   ]
  },
  {
   "cell_type": "code",
   "execution_count": null,
   "id": "8531c9ac",
   "metadata": {},
   "outputs": [],
   "source": [
    "from src.agents import FinancialAnalysisAgent\n",
    "agent = FinancialAnalysisAgent()\n",
    "analysis = agent.generate_report(df)\n",
    "analysis  # KPIs, AI narrative, recommendations, metrics\n"
   ]
  },
  {
   "cell_type": "markdown",
   "id": "6b3288e8",
   "metadata": {},
   "source": [
    "## 3) Generate Markdown report"
   ]
  },
  {
   "cell_type": "code",
   "execution_count": null,
   "id": "fbac9edc",
   "metadata": {},
   "outputs": [],
   "source": [
    "from src.utils import to_markdown_report, append_metrics_section\n",
    "import os\n",
    "\n",
    "report_md = to_markdown_report(analysis['kpis'], analysis['narrative'], analysis['recommendations'])\n",
    "report_md = append_metrics_section(report_md, analysis.get('metrics', {}))\n",
    "\n",
    "os.makedirs('outputs', exist_ok=True)\n",
    "with open('outputs/report.md', 'w', encoding='utf-8') as f:\n",
    "    f.write(report_md)\n",
    "\n",
    "print('Report saved to outputs/report.md')\n",
    "print(\"\\n\".join(report_md.splitlines()[:20]))  # preview first lines\n"
   ]
  },
  {
   "cell_type": "markdown",
   "id": "ebe77659",
   "metadata": {},
   "source": [
    "## 4) Trigger automation (Webhook / Notion)"
   ]
  },
  {
   "cell_type": "code",
   "execution_count": null,
   "id": "9caa3e5c",
   "metadata": {},
   "outputs": [],
   "source": [
    "from src.automation import simulate_make_n8n_job\n",
    "from src.integrations.notion import create_page_markdown\n",
    "\n",
    "ack = simulate_make_n8n_job(analysis)\n",
    "print('Webhook response:', ack)\n",
    "\n",
    "notion_resp = None\n",
    "import os\n",
    "if os.environ.get('NOTION_TOKEN') and os.environ.get('NOTION_PARENT_PAGE_ID'):\n",
    "    notion_resp = create_page_markdown(os.environ['NOTION_PARENT_PAGE_ID'], 'Financial Analysis Report', report_md)\n",
    "    print('Notion response:', notion_resp)\n",
    "else:\n",
    "    print('Notion export skipped.')\n"
   ]
  },
  {
   "cell_type": "markdown",
   "id": "a8113f47",
   "metadata": {},
   "source": [
    "---\n",
    "### Notes\n",
    "- Real LLM (LangChain + OpenAI/Mistral) can be enabled via `OPENAI_API_KEY`.  \n",
    "- Automations integrate easily with Slack, Notion, Make or n8n.  \n",
    "- This notebook shows the **end-to-end product flow**, not classroom exercises.  \n"
   ]
  }
 ],
 "metadata": {
  "kernelspec": {
   "display_name": "Python 3",
   "name": "python3"
  }
 },
 "nbformat": 4,
 "nbformat_minor": 5
}
